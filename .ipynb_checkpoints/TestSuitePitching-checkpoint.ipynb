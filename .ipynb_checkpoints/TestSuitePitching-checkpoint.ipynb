{
 "cells": [
  {
   "cell_type": "code",
   "execution_count": 4,
   "metadata": {},
   "outputs": [
    {
     "name": "stderr",
     "output_type": "stream",
     "text": [
      ".............."
     ]
    },
    {
     "name": "stdout",
     "output_type": "stream",
     "text": [
      "setupClass\n",
      "SetUp has run\n",
      "tearDown has run\n",
      "SetUp has run\n",
      "tearDown has run\n",
      "tearDownClass\n",
      "setUpclass has run\n",
      "Set up has run\n",
      "tear down has run\n",
      "Set up has run\n",
      "tear down has run\n",
      "Teardownclass has run\n",
      "setUpClass\n",
      "setUp\n",
      "name\n",
      "tearDown\n",
      "setUp\n",
      "age\n",
      "tearDown\n",
      "tearDownClass\n",
      "setUpClass\n",
      "setUp\n",
      "tearDown\n",
      "setUp\n",
      "Salary: 500000\n",
      "Name: Gerrit Cole Age: 25 Team: Yankees Position: Player\n",
      "IP: 180 K: 180 BB: 90 ER: 45 Hits: 90 SV: 10 HD: 10 CH: 20\n",
      "tearDown\n",
      "setUp\n",
      "name\n",
      "tearDown\n",
      "setUp\n",
      "tearDown\n",
      "tearDownClass\n",
      "setUpClass\n",
      "setUp\n",
      "tearDown\n",
      "setUp\n",
      "tearDown\n",
      "setUp\n",
      "Salary: 500000\n",
      "Name: Gerrit Cole Age: 25 Team: Yankees Position: Player\n",
      "IP: 180 K: 180 BB: 90 ER: 45 Hits: 90 GS: 10\n",
      "tearDown\n",
      "setUp\n",
      "name\n",
      "tearDown\n",
      "tearDownClass\n",
      "<unittest.runner.TextTestResult run=14 errors=0 failures=0>\n"
     ]
    },
    {
     "name": "stderr",
     "output_type": "stream",
     "text": [
      "\n",
      "----------------------------------------------------------------------\n",
      "Ran 14 tests in 0.012s\n",
      "\n",
      "OK\n"
     ]
    }
   ],
   "source": [
    "import unittest\n",
    "\n",
    "from TestReliever import TestPersonnel\n",
    "from TestReliever import TestReliever\n",
    "from TestStarter import TestStarter\n",
    "\n",
    "# if statements in the code result in <100% coverage\n",
    "\n",
    "def my_suite():\n",
    "    suite = unittest.TestSuite()\n",
    "    result = unittest.TestResult()\n",
    "    suite.addTest(unittest.makeSuite(TestPersonnel))\n",
    "    suite.addTest(unittest.makeSuite(TestReliever))\n",
    "    suite.addTest(unittest.makeSuite(TestStarter))\n",
    "    runner = unittest.TextTestRunner()\n",
    "    print(runner.run(suite))\n",
    "my_suite()"
   ]
  }
 ],
 "metadata": {
  "kernelspec": {
   "display_name": "Python 3",
   "language": "python",
   "name": "python3"
  },
  "language_info": {
   "codemirror_mode": {
    "name": "ipython",
    "version": 3
   },
   "file_extension": ".py",
   "mimetype": "text/x-python",
   "name": "python",
   "nbconvert_exporter": "python",
   "pygments_lexer": "ipython3",
   "version": "3.7.3"
  }
 },
 "nbformat": 4,
 "nbformat_minor": 2
}
