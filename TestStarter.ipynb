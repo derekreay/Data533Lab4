{
 "cells": [
  {
   "cell_type": "code",
   "execution_count": 43,
   "metadata": {},
   "outputs": [
    {
     "name": "stderr",
     "output_type": "stream",
     "text": [
      "test_everything_else (__main__.TestPersonnel) ... ok\n",
      "test_name (__main__.TestPersonnel) ... ok\n",
      "test_set_age (__main__.TestPersonnel) ... ok\n",
      "test_IPpG (__main__.TestStarter) ... ok\n",
      "test_Kp9 (__main__.TestStarter) ... ok\n",
      "test_everything_else (__main__.TestStarter) ... ok\n",
      "test_name (__main__.TestStarter) ... "
     ]
    },
    {
     "name": "stdout",
     "output_type": "stream",
     "text": [
      "setUpClass\n",
      "setUp\n",
      "tearDown\n",
      "setUp\n",
      "name\n",
      "tearDown\n",
      "setUp\n",
      "age\n",
      "tearDown\n",
      "tearDownClass\n",
      "setUpClass\n",
      "setUp\n",
      "tearDown\n",
      "setUp\n",
      "tearDown\n",
      "setUp\n",
      "Salary: 500000\n",
      "Name: Gerrit Cole Age: 25 Team: Yankees Position: Player\n",
      "IP: 180 K: 180 BB: 90 ER: 45 Hits: 90 GS: 10\n",
      "tearDown\n",
      "setUp\n",
      "name\n",
      "tearDown\n",
      "tearDownClass\n"
     ]
    },
    {
     "name": "stderr",
     "output_type": "stream",
     "text": [
      "ok\n",
      "\n",
      "----------------------------------------------------------------------\n",
      "Ran 7 tests in 0.007s\n",
      "\n",
      "OK\n"
     ]
    }
   ],
   "source": [
    "import unittest\n",
    "from baseball.pitcher.starter import personnel\n",
    "from baseball.pitcher.starter import starter\n",
    "    \n",
    "class TestStarter(unittest.TestCase):\n",
    "    @classmethod\n",
    "    def setUpClass(cls):\n",
    "        #something\n",
    "        print(\"setUpClass\")\n",
    "    def setUp(self):\n",
    "        self.p1 = starter(\"Gerrit Cole\", 25, \"Yankees\", \"Player\", 500000,180,180,90,45,90,10)\n",
    "        self.p2 = starter(\"Madison Bumgarner\", 30, \"Braves\", \"Player\", 500000,180,180,90,45,90,20)\n",
    "        print(\"setUp\")\n",
    "    def test_name(self):   \n",
    "        self.assertEqual(self.p1.name, \"Gerrit Cole\")\n",
    "        self.assertEqual(self.p2.name, \"Madison Bumgarner\")\n",
    "        print(\"name\")\n",
    "    def test_Kp9(self):\n",
    "        self.assertEqual(self.p1.Kp9(),180/180*9)\n",
    "        self.assertEqual(self.p2.Kp9(),180/180*9)\n",
    "    def test_IPpG(self):\n",
    "        self.assertEqual(self.p1.IPpG(),18)\n",
    "        self.assertEqual(self.p2.IPpG(),9)\n",
    "    def test_everything_else(self):\n",
    "        self.assertEqual(self.p1.age, 25)\n",
    "        self.assertEqual(self.p1.team, \"Yankees\")\n",
    "        self.assertEqual(self.p1.role, \"Player\")\n",
    "        self.assertEqual(self.p1.inningspitched, 180)\n",
    "        self.assertEqual(self.p1.strikeouts, 180)\n",
    "        self.assertEqual(self.p1.walks, 90)\n",
    "        self.assertEqual(self.p1.earnedruns, 45)\n",
    "        self.assertEqual(self.p1.hits, 90)\n",
    "        self.assertEqual(self.p1.gamesstarted, 10)\n",
    "        self.assertEqual(self.p1.ERA(),2.25)\n",
    "        self.assertEqual(self.p1.WHIP(),1)\n",
    "        self.assertEqual(self.p1.Kp9(),9)\n",
    "        self.assertEqual(self.p1.BBp9(),4.5)\n",
    "        self.assertIsNone(self.p1.getSalary())\n",
    "        self.assertIsNone(self.p1.display())\n",
    "    def tearDown(self):\n",
    "        self.p1 = None\n",
    "        self.p2 = None\n",
    "        print(\"tearDown\")\n",
    "    @classmethod\n",
    "    def tearDownClass(cls):\n",
    "        #something\n",
    "        print(\"tearDownClass\")\n",
    "    unittest.main(argv=[''], verbosity=2, exit=False)"
   ]
  }
 ],
 "metadata": {
  "kernelspec": {
   "display_name": "Python 3",
   "language": "python",
   "name": "python3"
  },
  "language_info": {
   "codemirror_mode": {
    "name": "ipython",
    "version": 3
   },
   "file_extension": ".py",
   "mimetype": "text/x-python",
   "name": "python",
   "nbconvert_exporter": "python",
   "pygments_lexer": "ipython3",
   "version": "3.7.3"
  }
 },
 "nbformat": 4,
 "nbformat_minor": 2
}
