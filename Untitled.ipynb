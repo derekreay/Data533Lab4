{
 "cells": [
  {
   "cell_type": "code",
   "execution_count": 3,
   "metadata": {
    "scrolled": true
   },
   "outputs": [
    {
     "name": "stdout",
     "output_type": "stream",
     "text": [
      "Value Error\n",
      "Finally\n"
     ]
    }
   ],
   "source": [
    "import sys\n",
    "randomList = ['p']\n",
    "for entry in randomList:\n",
    "    try:\n",
    "        r = 1/int(entry)\n",
    "    except ValueError:\n",
    "        print(\"Value Error\")\n",
    "    except ZeroDivisionError:\n",
    "        print(\"Divide by 0\")\n",
    "    except:\n",
    "        print(sys.exc_info()[0],\"occured.\")\n",
    "    else:\n",
    "        print(\"Answer:\",r)\n",
    "    finally:\n",
    "        print(\"Finally\")"
   ]
  },
  {
   "cell_type": "code",
   "execution_count": 4,
   "metadata": {},
   "outputs": [
    {
     "name": "stdout",
     "output_type": "stream",
     "text": [
      "Exception raised: 12\n"
     ]
    }
   ],
   "source": [
    "class Error(Exception): \n",
    "    def __init__(self, value): # Constructor or Initializer  \n",
    "        self.value = value \n",
    "    def __str__(self):          # __str__ to print() the value  \n",
    "        return(repr(self.value)) \n",
    "try: \n",
    "    raise(Error(6*2)) \n",
    "except Error as ex: \n",
    "    print('Exception raised:',ex.value) "
   ]
  },
  {
   "cell_type": "code",
   "execution_count": 6,
   "metadata": {},
   "outputs": [
    {
     "name": "stdout",
     "output_type": "stream",
     "text": [
      "Overage\n",
      "Overaged\n"
     ]
    }
   ],
   "source": [
    "class OverAge(Exception):\n",
    "    def __init__(self): \n",
    "        print(\"Overage\")\n",
    "        \n",
    "def check_age(age):\n",
    "    if age > 65:\n",
    "        raise OverAge\n",
    "    else:\n",
    "        print('Age: ',age)\n",
    "# main program\n",
    "try:\n",
    "    check_age(66) \n",
    "except OverAge:\n",
    "    print(\"Overaged\")"
   ]
  },
  {
   "cell_type": "code",
   "execution_count": 7,
   "metadata": {},
   "outputs": [
    {
     "name": "stdout",
     "output_type": "stream",
     "text": [
      "Password:········\n",
      "Password lenth is too small\n"
     ]
    }
   ],
   "source": [
    "import getpass\n",
    "\n",
    "class Error(Exception):\n",
    "   \"\"\"Base class for other exceptions\"\"\"\n",
    "   pass\n",
    "\n",
    "class PasswordTooSmallError(Error):\n",
    "   \"\"\"Raised when the password is too small\"\"\"\n",
    "   pass\n",
    "\n",
    "class PasswordTooLargeError(Error):\n",
    "   \"\"\"Raised when the password is too large\"\"\"\n",
    "   pass\n",
    "\n",
    "try:\n",
    "    pwd = getpass.getpass('Password:')\n",
    "    if len(pwd) < 6:\n",
    "        raise PasswordTooSmallError\n",
    "    elif len(pwd) > 12:\n",
    "        raise PasswordTooLargeError\n",
    "except PasswordTooSmallError:\n",
    "    print(\"Password lenth is too small\")\n",
    "    \n",
    "except PasswordTooLargeError:\n",
    "    print(\"Password lenth is too large\")"
   ]
  }
 ],
 "metadata": {
  "kernelspec": {
   "display_name": "Python 3",
   "language": "python",
   "name": "python3"
  },
  "language_info": {
   "codemirror_mode": {
    "name": "ipython",
    "version": 3
   },
   "file_extension": ".py",
   "mimetype": "text/x-python",
   "name": "python",
   "nbconvert_exporter": "python",
   "pygments_lexer": "ipython3",
   "version": "3.7.3"
  }
 },
 "nbformat": 4,
 "nbformat_minor": 2
}
