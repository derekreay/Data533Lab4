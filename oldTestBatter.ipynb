{
 "cells": [
  {
   "cell_type": "code",
   "execution_count": null,
   "metadata": {},
   "outputs": [],
   "source": [
    "import baseball.batters.batters as b"
   ]
  },
  {
   "cell_type": "code",
   "execution_count": 6,
   "metadata": {},
   "outputs": [
    {
     "name": "stdout",
     "output_type": "stream",
     "text": [
      "Name: a Age: 25 Team: Yankees Role: player\n",
      "Name: a Age: 25 Team: Yankees Role: player\n",
      "At bats: 400 Hits: 140 Doubles: 25 Triples: 6 Home Runs: 29 Walks: 90\n",
      "AVG:  0.35\n",
      "SLG:  0.66\n",
      "totalbase:  264\n",
      "BBrate:  0.1836734693877551\n",
      "singles:  80\n"
     ]
    },
    {
     "data": {
      "text/plain": [
       "[0, 1, 0, 2, 0, 1, 1, 1, 0, 1]"
      ]
     },
     "execution_count": 6,
     "metadata": {},
     "output_type": "execute_result"
    }
   ],
   "source": [
    "p1 = b.personnel(\"a\", 25, \"Yankees\", \"player\", 85000)\n",
    "p1.display()\n",
    "\n",
    "p2 = b.batter(\"a\", 25, \"Yankees\", \"player\", 85000, 400, 140, 25, 6, 29, 90)\n",
    "p2.display()\n",
    "\n",
    "print(\"AVG: \", p2.batavg())\n",
    "\n",
    "print(\"SLG: \", p2.slugging())\n",
    "\n",
    "print(\"totalbase: \", p2.totalbase())\n",
    "\n",
    "print(\"BBrate: \", p2.walkrate())\n",
    "\n",
    "print(\"singles: \", p2.singles())\n",
    "\n",
    "p2.simplateappearances(400)\n"
   ]
  },
  {
   "cell_type": "code",
   "execution_count": null,
   "metadata": {},
   "outputs": [],
   "source": [
    "import baseball.batters.Calculator as c"
   ]
  },
  {
   "cell_type": "code",
   "execution_count": null,
   "metadata": {},
   "outputs": [],
   "source": [
    "print(\"AVG: \", c.batavg(50,25))\n",
    "print(\"singles: \", c.singles(25, 5, 10, 1))\n",
    "print(\"onbase: \", c.onbase(25,5,5))\n",
    "print(\"totalbase: \", c.totalbase(25,5,2,5))\n",
    "print(\"krate: \", c.krate(25,2))\n",
    "print(\"slugging: \", c.slugging(25,20,1,2,3))\n",
    "print(\"obps: \", c.obps(50,25,2,3,4,10))\n",
    "print(\"BBrate: \", c.walkrate(50,5))"
   ]
  }
 ],
 "metadata": {
  "kernelspec": {
   "display_name": "Python 3",
   "language": "python",
   "name": "python3"
  },
  "language_info": {
   "codemirror_mode": {
    "name": "ipython",
    "version": 3
   },
   "file_extension": ".py",
   "mimetype": "text/x-python",
   "name": "python",
   "nbconvert_exporter": "python",
   "pygments_lexer": "ipython3",
   "version": "3.7.3"
  }
 },
 "nbformat": 4,
 "nbformat_minor": 2
}
